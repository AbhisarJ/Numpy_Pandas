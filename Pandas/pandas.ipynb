{
 "cells": [
  {
   "cell_type": "code",
   "execution_count": 1,
   "metadata": {},
   "outputs": [
    {
     "name": "stdout",
     "output_type": "stream",
     "text": [
      "a    1\n",
      "b    2\n",
      "c    3\n",
      "d    4\n",
      "e    5\n",
      "dtype: int32\n",
      "[1 2 3 4 5]\n",
      "{'Calories': [1, 2, 3], 'Duration': [30, 20, 50]}\n",
      "   Calories  Duration\n",
      "x         1        30\n",
      "y         2        20\n",
      "z         3        50\n",
      "<bound method DataFrame.to_string of      Duration  Pulse  Maxpulse  Calories\n",
      "0          60    110       130     409.1\n",
      "1          60    117       145     479.0\n",
      "2          60    103       135     340.0\n",
      "3          45    109       175     282.4\n",
      "4          45    117       148     406.0\n",
      "..        ...    ...       ...       ...\n",
      "164        60    105       140     290.8\n",
      "165        60    110       145     300.0\n",
      "166        60    115       145     310.2\n",
      "167        75    120       150     320.4\n",
      "168        75    125       150     330.4\n",
      "\n",
      "[169 rows x 4 columns]>\n"
     ]
    }
   ],
   "source": [
    "import pandas as pd\n",
    "import numpy as np\n",
    "import matplotlib.pyplot as plt\n",
    "\n",
    "\n",
    "arr = np.array([1,2,3,4,5])\n",
    "\n",
    "A = pd.Series(arr, index=['a' , 'b' , 'c', 'd', 'e'])\n",
    "print(A)\n",
    "print(arr)\n",
    "\n",
    "arr2 = {'Calories':[1,2,3], 'Duration': [30,20,50] }\n",
    "print(arr2)\n",
    "\n",
    "A =pd.DataFrame(arr2 , index=['x', 'y', 'z'])\n",
    "print(A)\n",
    "\n",
    "data = pd.read_csv('data.csv')\n",
    "\n",
    "df = pd.DataFrame(data)\n",
    "print(df.to_string)"
   ]
  },
  {
   "cell_type": "code",
   "execution_count": 5,
   "metadata": {},
   "outputs": [
    {
     "name": "stdout",
     "output_type": "stream",
     "text": [
      "<bound method DataFrame.to_string of      Duration  Pulse  Maxpulse  Calories\n",
      "0          60    110       130     409.1\n",
      "1          60    117       145     479.0\n",
      "2          60    103       135     340.0\n",
      "3          45    109       175     282.4\n",
      "4          45    117       148     406.0\n",
      "..        ...    ...       ...       ...\n",
      "164        60    105       140     290.8\n",
      "165        60    110       145     300.4\n",
      "166        60    115       145     310.2\n",
      "167        75    120       150     320.4\n",
      "168        75    125       150     330.4\n",
      "\n",
      "[169 rows x 4 columns]>\n"
     ]
    }
   ],
   "source": [
    "B = pd.read_json('data.json')\n",
    "print(B.to_string)"
   ]
  },
  {
   "cell_type": "code",
   "execution_count": 9,
   "metadata": {},
   "outputs": [
    {
     "name": "stdout",
     "output_type": "stream",
     "text": [
      "<class 'pandas.core.frame.DataFrame'>\n",
      "Index: 164 entries, 0 to 168\n",
      "Data columns (total 4 columns):\n",
      " #   Column    Non-Null Count  Dtype  \n",
      "---  ------    --------------  -----  \n",
      " 0   Duration  164 non-null    int64  \n",
      " 1   Pulse     164 non-null    int64  \n",
      " 2   Maxpulse  164 non-null    int64  \n",
      " 3   Calories  164 non-null    float64\n",
      "dtypes: float64(1), int64(3)\n",
      "memory usage: 6.4 KB\n",
      "None\n",
      "   Duration  Pulse  Maxpulse  Calories\n",
      "0        60    110       130     409.1\n",
      "1        60    117       145     479.0\n",
      "2        60    103       135     340.0\n",
      "3        45    109       175     282.4\n",
      "4        45    117       148     406.0\n",
      "5        60    102       127     300.0\n",
      "6        60    110       136     374.0\n",
      "7        45    104       134     253.3\n",
      "8        30    109       133     195.1\n",
      "9        60     98       124     269.0\n",
      "     Duration  Pulse  Maxpulse  Calories\n",
      "159        30     80       120     240.9\n",
      "160        30     85       120     250.4\n",
      "161        45     90       130     260.4\n",
      "162        45     95       130     270.0\n",
      "163        45    100       140     280.9\n",
      "164        60    105       140     290.8\n",
      "165        60    110       145     300.0\n",
      "166        60    115       145     310.2\n",
      "167        75    120       150     320.4\n",
      "168        75    125       150     330.4\n"
     ]
    }
   ],
   "source": [
    "print(df.info())\n",
    "print(df.head(10))\n",
    "print(df.tail(10))"
   ]
  },
  {
   "cell_type": "code",
   "execution_count": 13,
   "metadata": {},
   "outputs": [
    {
     "name": "stdout",
     "output_type": "stream",
     "text": [
      "<bound method DataFrame.to_string of      Duration  Pulse  Maxpulse  Calories\n",
      "0          60    110       130     409.1\n",
      "1          60    117       145     479.0\n",
      "2          60    103       135     340.0\n",
      "3          45    109       175     282.4\n",
      "4          45    117       148     406.0\n",
      "..        ...    ...       ...       ...\n",
      "164        60    105       140     290.8\n",
      "165        60    110       145     300.0\n",
      "166        60    115       145     310.2\n",
      "167        75    120       150     320.4\n",
      "168        75    125       150     330.4\n",
      "\n",
      "[164 rows x 4 columns]>\n"
     ]
    }
   ],
   "source": [
    "print(df.to_string)"
   ]
  },
  {
   "cell_type": "code",
   "execution_count": 14,
   "metadata": {},
   "outputs": [
    {
     "name": "stdout",
     "output_type": "stream",
     "text": [
      "     Duration  Pulse  Maxpulse  Calories\n",
      "3          45    109       175     282.4\n",
      "5          60    102       127     300.0\n",
      "7          45    104       134     253.3\n",
      "8          30    109       133     195.1\n",
      "9          60     98       124     269.0\n",
      "..        ...    ...       ...       ...\n",
      "161        45     90       130     260.4\n",
      "162        45     95       130     270.0\n",
      "163        45    100       140     280.9\n",
      "164        60    105       140     290.8\n",
      "165        60    110       145     300.0\n",
      "\n",
      "[76 rows x 4 columns]\n"
     ]
    }
   ],
   "source": [
    "for x in df.index:\n",
    "    if df.loc[x, 'Calories'] > 300:\n",
    "        df.drop(x, inplace=True)\n",
    "print(df)"
   ]
  },
  {
   "cell_type": "code",
   "execution_count": 16,
   "metadata": {},
   "outputs": [
    {
     "name": "stdout",
     "output_type": "stream",
     "text": [
      "3      False\n",
      "5      False\n",
      "7      False\n",
      "8      False\n",
      "9      False\n",
      "       ...  \n",
      "161    False\n",
      "162    False\n",
      "163    False\n",
      "164    False\n",
      "165    False\n",
      "Length: 76, dtype: bool\n"
     ]
    }
   ],
   "source": [
    "print(df.duplicated())"
   ]
  },
  {
   "cell_type": "code",
   "execution_count": 17,
   "metadata": {},
   "outputs": [
    {
     "name": "stdout",
     "output_type": "stream",
     "text": [
      "     Duration  Pulse  Maxpulse  Calories\n",
      "3          45    109       175     282.4\n",
      "5          60    102       127     300.0\n",
      "7          45    104       134     253.3\n",
      "8          30    109       133     195.1\n",
      "9          60     98       124     269.0\n",
      "..        ...    ...       ...       ...\n",
      "161        45     90       130     260.4\n",
      "162        45     95       130     270.0\n",
      "163        45    100       140     280.9\n",
      "164        60    105       140     290.8\n",
      "165        60    110       145     300.0\n",
      "\n",
      "[71 rows x 4 columns]\n"
     ]
    }
   ],
   "source": [
    "print(df.drop_duplicates())"
   ]
  },
  {
   "cell_type": "code",
   "execution_count": 18,
   "metadata": {},
   "outputs": [
    {
     "name": "stdout",
     "output_type": "stream",
     "text": [
      "          Duration     Pulse  Maxpulse  Calories\n",
      "Duration  1.000000 -0.367604 -0.365339  0.694026\n",
      "Pulse    -0.367604  1.000000  0.780701  0.150732\n",
      "Maxpulse -0.365339  0.780701  1.000000  0.178333\n",
      "Calories  0.694026  0.150732  0.178333  1.000000\n"
     ]
    }
   ],
   "source": [
    "print(df.corr())"
   ]
  },
  {
   "cell_type": "code",
   "execution_count": 20,
   "metadata": {},
   "outputs": [
    {
     "data": {
      "image/png": "[encoded data removed]",
      "text/plain": [
       "<Figure size 640x480 with 1 Axes>"
      ]
     },
     "metadata": {},
     "output_type": "display_data"
    }
   ],
   "source": [
    "df.plot(kind='scatter', x = 'Duration' , y='Maxpulse')\n",
    "plt.show()"
   ]
  },
  {
   "cell_type": "code",
   "execution_count": 21,
   "metadata": {},
   "outputs": [
    {
     "data": {
      "image/png": "[encoded data removed]",
      "text/plain": [
       "<Figure size 640x480 with 1 Axes>"
      ]
     },
     "metadata": {},
     "output_type": "display_data"
    }
   ],
   "source": [
    "df['Duration'].plot(kind='hist')\n",
    "plt.show()"
   ]
  }
 ],
 "metadata": {
  "kernelspec": {
   "display_name": "Python 3",
   "language": "python",
   "name": "python3"
  },
  "language_info": {
   "codemirror_mode": {
    "name": "ipython",
    "version": 3
   },
   "file_extension": ".py",
   "mimetype": "text/x-python",
   "name": "python",
   "nbconvert_exporter": "python",
   "pygments_lexer": "ipython3",
   "version": "3.12.4"
  }
 },
 "nbformat": 4,
 "nbformat_minor": 2
}
